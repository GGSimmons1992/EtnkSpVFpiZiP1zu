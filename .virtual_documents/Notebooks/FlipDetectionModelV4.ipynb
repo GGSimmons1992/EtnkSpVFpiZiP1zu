import numpy as np
import pandas as pd
import tensorflow as tf
import tensorflow.keras as keras
import keras.backend as K
from keras.optimizers import Adam
import os
from IPython.display import display
import util as util
%autosave 5


possibleConvFilters = util.createRangeFromMidpoint(14,20)

possibleConvAndPoolLayers = util.createRangeFromMidpoint(1,6)

possibleNumberOfFCLayers = util.createRangeFromMidpoint(12,13)
possibleNumberOfNeuronsPerFCLayer = util.createRangeFromMidpoint(5,5)

possibleNumberOfEpochs = util.createRangeFromMidpoint(5,5)

lastBestDropoutRate = 0.754353	
lastBestAdamLearningRate = 0.000361

trial = 30


train = util.loadData("training")
dev,test = util.loadData("testing",.5)

choose = np.random.choice

n_convFilters = []
n_convAndPoolLayers = []
n_FCLayers = []
n_NeuronsPerFCLayers = []
n_Epochs = []
dropoutRates = []
adamLearningRates = []
trainScores = []
devScores = []

lastTrialForNotebook = trial + 10

while trial < lastTrialForNotebook:
    convFilters = choose(possibleConvFilters)

    convAndPoolLayers = choose(possibleConvAndPoolLayers)
    convAndPoolLayers = min([convAndPoolLayers,6])

    numberOfFCLayers = choose(possibleNumberOfFCLayers)
    numberOfNeuronsPerFCLayer = choose(possibleNumberOfNeuronsPerFCLayer)

    numberOfEpochs = choose(possibleNumberOfEpochs)
    
    dropoutRate = (np.random.rand() + lastBestDropoutRate)/2
    adamLearningRate = util.generateAdamLearningRate(lastBestAdamLearningRate)

    model = util.createModel(convFilters, convAndPoolLayers,numberOfFCLayers, numberOfNeuronsPerFCLayer, dropoutRate, adamLearningRate)

    model.fit(train,epochs=numberOfEpochs,verbose=0)

    model_path = f'../Models/FlipDetectionModelTrials/fd_model_{trial}.h5'
    model.save(model_path)
    model_size = os.path.getsize(model_path) / (1024 * 1024)
    if model_size < 40:
        print()
        print('trainScore')
        trainScore = model.evaluate(train)[1]
        print('devScore')
        devScore = model.evaluate(dev)[1]

        n_convFilters.append(convFilters)
        n_convAndPoolLayers.append(convAndPoolLayers)
        n_FCLayers.append(numberOfFCLayers)
        n_NeuronsPerFCLayers.append(numberOfNeuronsPerFCLayer)
        n_Epochs.append(numberOfEpochs)
        dropoutRates.append(dropoutRate)
        trainScores.append(trainScore)
        devScores.append(devScore)
        adamLearningRates.append(adamLearningRate)
        print('concluding trial ',trial)
        trial += 1
    else:
        print(f'redoing trial {trial}. Model was {model_size}MB.')
        failedTrial = util.createModelParametersDF([convFilters],[convAndPoolLayers],
                                           [numberOfFCLayers],[numberOfNeuronsPerFCLayer],[numberOfEpochs],[dropoutRate],[adamLearningRate],[np.nan],[np.nan])
        display(failedTrial)
        
modelParametersDF = util.createModelParametersDF(n_convFilters,n_convAndPoolLayers,
                                            n_FCLayers,n_NeuronsPerFCLayers,n_Epochs,dropoutRates,adamLearningRates,trainScores,devScores)
display(modelParametersDF.sort_values(by='trainScore', ascending=False))    
    



