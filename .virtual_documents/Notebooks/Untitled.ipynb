import numpy as np
import pandas as pd
import tensorflow as tf
import tensorflow.keras as keras
import keras.backend as K
from keras.optimizers import Adam
import os
from IPython.display import display
import json
from os.path import exists
from tensorflow.keras.applications.vgg16 import VGG16
from tensorflow.keras.applications.vgg16 import preprocess_input

import sys
sys.path.insert(0, "../Src/")
import basicUtil

%autosave 5





def main():
    train = basicUtil.loadData("training")
    dev,test = basicUtil.loadData("testing",.5)

    base_model = VGG16(weights="imagenet", include_top=False, input_shape=train[0].shape)
    base_model.trainable = False

    train = preprocess_input(train)
    dev = preprocess_input(dev)
    test = preprocess_input(test)

    possibleLayers = basicUtil.createRangeFromMidpoint(10,20)
    possibleNeuronsPerLayer = basicUtil.createRangeFromMidpoint(10,20)
    


main()
