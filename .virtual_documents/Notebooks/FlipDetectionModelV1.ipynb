import numpy as np
import pandas as pd
import tensorflow as tf
import tensorflow.keras as keras
import keras.backend as K
from keras.optimizers import Adam
import os
%autosave 5


def loadData(dataset,split=0):
    if(split == 0):
        print("In non split")
        return tf.keras.preprocessing.image_dataset_from_directory(f"../Data/{dataset}",
                                                                   labels='inferred',shuffle=True,seed=51)
    else:
        print("In split")
        return tf.keras.preprocessing.image_dataset_from_directory(f"../Data/{dataset}",
                                                                   labels='inferred',shuffle=True,seed=51,
                                                            validation_split=split,subset='both')


#from https://aakashgoel12.medium.com/how-to-add-user-defined-function-get-f1-score-in-keras-metrics-3013f979ce0d
def f1_score(y_true, y_pred): #taken from old keras source code 
    true_positives = K.sum(K.round(K.clip(y_true * y_pred, 0, 1)))
    possible_positives = K.sum(K.round(K.clip(y_true, 0, 1)))
    predicted_positives = K.sum(K.round(K.clip(y_pred, 0, 1)))
    precision = true_positives / (predicted_positives + K.epsilon())
    recall = true_positives / (possible_positives + K.epsilon())
    f1_val = 2*(precision*recall)/(precision+recall+K.epsilon())
    return f1_val


def main():
    train = loadData("training")
    dev,test = loadData("testing",.5)

    modelParameters = dict()

    choose = np.random.choice
    
    possibleConvFilterWidths = 2*np.arange(6)+1
    possibleConvStrides = np.arange(1,12)
    possibleConvFilters = np.arange(100)

    possiblePoolFilterWidths = np.arange(2,10)
    possiblePoolStrides = np.arange(1,10)

    possibleConvAndPoolLayers = np.arange(1,10)

    possibleNumberOfFCLayers = np.arange(50)
    possibleNumberOfNeuronsPerFCLayer = np.arange(50)

    possibleNumberOfEpochs = np.arange(100)
    
    bestDevF1 = 0
    
    for trial in range(1):
        convFilterWidth = choose(possibleConvFilterWidths)
        convStride = choose(possibleConvStrides)
        convFilters = choose(possibleConvFilters)

        poolFilterWidth = choose(possiblePoolFilterWidths) 
        poolStride = choose(possiblePoolStrides)

        convAndPoolLayers = choose(possibleConvAndPoolLayers)

        numberOfFCLayers = choose(possibleNumberOfFCLayers)
        numberOfNeuronsPerFCLayer = choose(possibleNumberOfNeuronsPerFCLayer)

        numberOfEpochs = choose(possibleNumberOfEpochs)
        
        dropoutRate = np.random.rand()
        
        model = keras.Sequential()
        
        for convAndPoolLayer in range(convAndPoolLayers):
            model.add(keras.layers.Conv2D(convFilters,(convFilterWidth,convFilterWidth),strides=(convStride,convStride), activation='relu',padding='same'))
            model.add(keras.layers.MaxPooling2D(pool_size=(poolFilterWidth, poolFilterWidth),
                                                strides=(poolStride,poolStride), padding='same'))
            
        model.add(keras.layers.Flatten())
        
        for layer in range(numberOfFCLayers):
            if layer == numberOfFCLayers - 1:
                model.add(keras.layers.Dense(1,activation='relu'))
            else:
                model.add(keras.layers.Dense(numberOfNeuronsPerFCLayer,activation='relu'))
            if layer != numberOfFCLayers - 1:
                model.add(keras.layers.Dropout(dropoutRate))            
    
        model.compile(optimizer="adam",loss='binary_crossentropy', metrics=[f1_score])
    
        model.fit(train,epochs=numberOfEpochs)

        model_path = f'../Models/fd_model_{trial}.h5'
        model.save(model_path)
        model_size = os.path.getsize(model_path) / (1024 * 1024)
        print('Model size: ', model_size, 'MB')
        
        print(model.metrics_names)
        print("train: ",model.evaluate(train))
        print("dev: ",model.evaluate(dev))
    
    


main()
