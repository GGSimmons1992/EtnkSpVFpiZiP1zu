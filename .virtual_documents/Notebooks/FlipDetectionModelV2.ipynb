import numpy as np
import pandas as pd
import tensorflow as tf
import tensorflow.keras as keras
import keras.backend as K
from keras.optimizers import Adam
import os
from IPython.display import display
from util import loadData,f1_score,createModel,createModelParametersDF,createRangeFromMidpoint


train = loadData("training")
dev,test = loadData("testing",.5)

choose = np.random.choice

possibleConvFilters = createRangeFromMidpoint(37,52)

possibleConvAndPoolLayers = createRangeFromMidpoint(4,4)

possibleNumberOfFCLayers = createRangeFromMidpoint(7,7)
possibleNumberOfNeuronsPerFCLayer = createRangeFromMidpoint(9,9)

possibleNumberOfEpochs = createRangeFromMidpoint(6,7)

previousBestDropoutRate = 0.84

n_convFilters = []
n_convAndPoolLayers = []
n_FCLayers = []
n_NeuronsPerFCLayers = []
n_Epochs = []
dropoutRates = []
trainScores = []
devScores = []

trial = 10
while trial < 20:
    convFilters = choose(possibleConvFilters)

    convAndPoolLayers = choose(possibleConvAndPoolLayers)
    convAndPoolLayers = min([convAndPoolLayers,6])

    numberOfFCLayers = choose(possibleNumberOfFCLayers)
    numberOfNeuronsPerFCLayer = choose(possibleNumberOfNeuronsPerFCLayer)

    numberOfEpochs = choose(possibleNumberOfEpochs)
    
    dropoutRate = (np.random.rand() + previousBestDropoutRate)/2

    model = createModel(convFilters, convAndPoolLayers,numberOfFCLayers, numberOfNeuronsPerFCLayer, dropoutRate)

    model.fit(train,epochs=numberOfEpochs,verbose=0)

    model_path = f'../Models/FlipDetectionModelTrials/fd_model_{trial}.h5'
    model.save(model_path)
    model_size = os.path.getsize(model_path) / (1024 * 1024)
    if model_size < 40:
        print()
        print('trainScore')
        trainScore = model.evaluate(train)[1]
        print('devScore')
        devScore = model.evaluate(dev)[1]

        n_convFilters.append(convFilters)
        n_convAndPoolLayers.append(convAndPoolLayers)
        n_FCLayers.append(numberOfFCLayers)
        n_NeuronsPerFCLayers.append(numberOfNeuronsPerFCLayer)
        n_Epochs.append(numberOfEpochs)
        dropoutRates.append(dropoutRate)
        trainScores.append(trainScore)
        devScores.append(devScore)
        print('concluding trial ',trial)
        trial += 1
    else:
        print(f'redoing trial {trial}. Model was {model_size}MB.')
        failedTrial = createModelParametersDF([convFilters],[convAndPoolLayers],
                                           [numberOfFCLayers],[numberOfNeuronsPerFCLayer],[numberOfEpochs],[dropoutRate],[np.nan],[np.nan])
        display(failedTrial)
        
modelParametersDF = createModelParametersDF(n_convFilters,n_convAndPoolLayers,
                                            n_FCLayers,n_NeuronsPerFCLayers,n_Epochs,dropoutRates,trainScores,devScores)
display(modelParametersDF.sort_values(by='trainScore', ascending=False))
        
    
    
