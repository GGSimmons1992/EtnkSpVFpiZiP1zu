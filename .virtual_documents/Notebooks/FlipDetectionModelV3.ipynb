import numpy as np
import pandas as pd
import tensorflow as tf
import tensorflow.keras as keras
import keras.backend as K
from keras.optimizers import Adam
import os
from IPython.display import display
import util
%autosave 5


possibleConvFilters1 = util.createRangeFromMidpoint(13,26)
possibleConvFilters2 = util.createRangeFromMidpoint(46,92)
possibleConvFilters3 = util.createRangeFromMidpoint(17,34)
possibleConvFilters4 = util.createRangeFromMidpoint(16,32)

possibleNumberOfFCLayers = util.createRangeFromMidpoint(27,54)
possibleNumberOfNeuronsPerFCLayer = util.createRangeFromMidpoint(33,66)

possibleNumberOfEpochs = util.createRangeFromMidpoint(22,44)
dropoutCriticalPoints = (0,1)
adamLearningRateCriticalPoints = (1e-4,1e-2)
L2CriticalPoints = (1e-2,1e3)   

trial = 0

train = util.loadData("training")
dev,test = util.loadData("testing",.5)

choose = np.random.choice

n_convFilters1 = []
n_convFilters2 = []
n_convFilters3 = []
n_convFilters4 = []
n_FCLayers = []
n_NeuronsPerFCLayers = []
n_Epochs = []
dropoutRates = []
adamLearningRates = []
L2Rates = []
trainScores = []
devScores = []

while trial < 50:
    convFilters1 = choose(possibleConvFilters1)
    convFilters2 = choose(possibleConvFilters2)
    convFilters3 = choose(possibleConvFilters3)
    convFilters4 = choose(possibleConvFilters4)

    numberOfFCLayers = choose(possibleNumberOfFCLayers)
    numberOfNeuronsPerFCLayer = choose(possibleNumberOfNeuronsPerFCLayer)

    numberOfEpochs = choose(possibleNumberOfEpochs)
    
    dropoutRate = util.generateDropoutRate(dropoutCriticalPoints[0],dropoutCriticalPoints[1])
    adamLearningRate = util.generateAdamLearningRate(adamLearningRateCriticalPoints[0],adamLearningRateCriticalPoints[1])
    L2Rate = util.generateL2(L2CriticalPoints[0],L2CriticalPoints[1])
    

    model = util.createModel(convFilters1, convFilters2, convFilters3, convFilters4,
                        numberOfFCLayers, numberOfNeuronsPerFCLayer, dropoutRate, adamLearningRate,L2Rate)

    model.fit(train,epochs=numberOfEpochs,verbose=0)

    model_path = f'../Models/FlipDetectionModelTrials/fd_model_{trial}.h5'
    model.save(model_path)
    model_size = os.path.getsize(model_path) / (1024 * 1024)
    if model_size < 40:
        print()
        print('trainScore')
        trainScore = model.evaluate(train)[1]
        print('devScore')
        devScore = model.evaluate(dev)[1]

        if devScore > 0.91:
            model_path = f'../Models/fd_model_{trial}.h5'
            model.save(model_path)

        n_convFilters1.append(convFilters1)
        n_convFilters2.append(convFilters2)
        n_convFilters3.append(convFilters3)
        n_convFilters4.append(convFilters4)
        
        n_FCLayers.append(numberOfFCLayers)
        n_NeuronsPerFCLayers.append(numberOfNeuronsPerFCLayer)
        n_Epochs.append(numberOfEpochs)
        
        adamLearningRates.append(adamLearningRate)
        dropoutRates.append(dropoutRate)
        L2Rates.append(L2Rate)
        trainScores.append(trainScore)
        devScores.append(devScore)
        
        print('concluding trial ',trial)
        trial += 1
    else:
        print(f'redoing trial {trial}. Model was {model_size}MB.')
        failedTrial = util.createModelParametersDF([convFilters1],[convFilters2],[convFilters3],[convFilters4],
                                              [numberOfFCLayers],[numberOfNeuronsPerFCLayer],[numberOfEpochs],
                                              [dropoutRate],[adamLearningRate],[L2Rate],[np.nan],[np.nan])
        display(failedTrial)
    
        
    if (trial % 10 == 9): 
        modelParametersDF = util.createModelParametersDF(n_convFilters1,n_convFilters2,n_convFilters3,n_convFilters4,
                                                n_FCLayers,n_NeuronsPerFCLayers,n_Epochs,
                                                dropoutRates,adamLearningRates,L2Rates,trainScores,devScores)
        modelParametersDF = modelParametersDF.sort_values(by='trainScore', ascending=False)
        display(modelParametersDF)
        
        top5 = modelParametersDF[0:5]
        possibleConvFilters1 = util.createRangeFromMidpoint(np.mean(top5['n_convFilters1']),6*np.std(top5['n_convFilters1']))
        possibleConvFilters2 = util.createRangeFromMidpoint(np.mean(top5['n_convFilters2']),6*np.std(top5['n_convFilters2']))
        possibleConvFilters3 = util.createRangeFromMidpoint(np.mean(top5['n_convFilters3']),6*np.std(top5['n_convFilters3']))
        possibleConvFilters4 = util.createRangeFromMidpoint(np.mean(top5['n_convFilters4']),6*np.std(top5['n_convFilters4']))
    
        possibleNumberOfFCLayers = util.createRangeFromMidpoint(np.mean(top5['n_FCLayers']),6*np.std(top5['n_FCLayers']))
        possibleNumberOfNeuronsPerFCLayer = util.createRangeFromMidpoint(np.mean(top5['n_NeuronsPerFCLayers']),6*np.std(top5['n_NeuronsPerFCLayers']))
    
        possibleNumberOfEpochs = util.createRangeFromMidpoint(np.mean(top5['n_Epochs']),6*np.std(top5['n_Epochs']))
        dropoutCriticalPoints = util.calculateCriticalPoints(top5['dropoutRate'])
        adamLearningRateCriticalPoints = util.calculateLogisticCriticalPoints(top5['adamLearningRates'])
        L2CriticalPoints = util.calculateLogisticCriticalPoints(top5['L2Rates'])

        n_convFilters1 = []
        n_convFilters2 = []
        n_convFilters3 = []
        n_convFilters4 = []
        n_FCLayers = []
        n_NeuronsPerFCLayers = []
        n_Epochs = []
        dropoutRates = []
        adamLearningRates = []
        L2Rates = []
        trainScores = []
        devScores = []
            
    



