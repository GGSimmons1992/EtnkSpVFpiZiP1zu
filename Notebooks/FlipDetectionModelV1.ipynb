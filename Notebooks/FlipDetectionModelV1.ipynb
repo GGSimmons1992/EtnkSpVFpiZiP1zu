{
 "cells": [
  {
   "cell_type": "code",
   "execution_count": 1,
   "id": "ce8f532f-093c-40f5-b5bf-5b9892e01be0",
   "metadata": {},
   "outputs": [
    {
     "data": {
      "application/javascript": [
       "IPython.notebook.set_autosave_interval(5000)"
      ]
     },
     "metadata": {},
     "output_type": "display_data"
    },
    {
     "name": "stdout",
     "output_type": "stream",
     "text": [
      "Autosaving every 5 seconds\n"
     ]
    }
   ],
   "source": [
    "import numpy as np\n",
    "import pandas as pd\n",
    "import tensorflow as tf\n",
    "import tensorflow.keras as keras\n",
    "import keras.backend as K\n",
    "from keras.optimizers import Adam\n",
    "import os\n",
    "from IPython.display import display\n",
    "%autosave 5"
   ]
  },
  {
   "cell_type": "code",
   "execution_count": 2,
   "id": "efc8d1c6-7ae3-4042-bb0d-ce329e46a15e",
   "metadata": {},
   "outputs": [],
   "source": [
    "def loadData(dataset,split=0):\n",
    "    if(split == 0):\n",
    "        print(\"In non split\")\n",
    "        return tf.keras.preprocessing.image_dataset_from_directory(f\"../Data/{dataset}\",\n",
    "                                                                   labels='inferred',shuffle=True,seed=51)\n",
    "    else:\n",
    "        print(\"In split\")\n",
    "        return tf.keras.preprocessing.image_dataset_from_directory(f\"../Data/{dataset}\",\n",
    "                                                                   labels='inferred',shuffle=True,seed=51,\n",
    "                                                            validation_split=split,subset='both')"
   ]
  },
  {
   "cell_type": "code",
   "execution_count": 3,
   "id": "24362531-ffe5-48d1-ad9e-b07d16106a13",
   "metadata": {},
   "outputs": [],
   "source": [
    "#from https://aakashgoel12.medium.com/how-to-add-user-defined-function-get-f1-score-in-keras-metrics-3013f979ce0d\n",
    "def f1_score(y_true, y_pred): #taken from old keras source code \n",
    "    true_positives = K.sum(K.round(K.clip(y_true * y_pred, 0, 1)))\n",
    "    possible_positives = K.sum(K.round(K.clip(y_true, 0, 1)))\n",
    "    predicted_positives = K.sum(K.round(K.clip(y_pred, 0, 1)))\n",
    "    precision = true_positives / (predicted_positives + K.epsilon())\n",
    "    recall = true_positives / (possible_positives + K.epsilon())\n",
    "    f1_val = 2*(precision*recall)/(precision+recall+K.epsilon())\n",
    "    return f1_val"
   ]
  },
  {
   "cell_type": "code",
   "execution_count": 4,
   "id": "81990540-6063-4a10-be29-c417767cf5ef",
   "metadata": {},
   "outputs": [],
   "source": [
    "def createModel(convFilters, convAndPoolLayers,numberOfFCLayers, numberOfNeuronsPerFCLayer, numberOfEpochs, dropoutRate):\n",
    "    model = keras.Sequential()\n",
    "        \n",
    "    for convAndPoolLayer in range(convAndPoolLayers):\n",
    "        model.add(keras.layers.Conv2D(convFilters,(3,3), activation='relu',padding='valid'))\n",
    "        model.add(keras.layers.MaxPooling2D(pool_size=(2,2), padding='valid'))\n",
    "        \n",
    "    model.add(keras.layers.Flatten())\n",
    "    \n",
    "    for layer in range(numberOfFCLayers):\n",
    "        if layer == numberOfFCLayers - 1:\n",
    "            model.add(keras.layers.Dense(1,activation='softmax'))\n",
    "        else:\n",
    "            model.add(keras.layers.Dense(numberOfNeuronsPerFCLayer,activation='relu'))\n",
    "            model.add(keras.layers.Dropout(dropoutRate))\n",
    "             \n",
    "    model.compile(optimizer=\"adam\",loss='binary_crossentropy', metrics=f1_score)\n",
    "    return model"
   ]
  },
  {
   "cell_type": "code",
   "execution_count": 5,
   "id": "d49a4952-222d-4e58-81b3-346b4fa5a3d7",
   "metadata": {},
   "outputs": [],
   "source": [
    "def createModelParametersDF(n_convFilters,n_convAndPoolLayers,\n",
    "                            n_FCLayers,n_NeuronsPerFCLayers,dropoutRates,trainScores,devScores):\n",
    "    modelParameters = dict()\n",
    "    modelParameters['n_convFilters'] = n_convFilters\n",
    "    modelParameters['n_convAndPoolLayers'] = n_convAndPoolLayers\n",
    "    modelParameters['n_FCLayers'] = n_FCLayers\n",
    "    modelParameters['n_NeuronsPerFCLayers'] = n_NeuronsPerFCLayers\n",
    "    modelParameters['dropoutRate'] = dropoutRates\n",
    "    modelParameters['trainScore'] = trainScores\n",
    "    modelParameters['devScore'] = devScores\n",
    "\n",
    "    modelParametersDF = pd.DataFrame(modelParameters, columns=modelParameters.keys())\n",
    "    return modelParametersDF"
   ]
  },
  {
   "cell_type": "code",
   "execution_count": 6,
   "id": "6f538549-0111-4c8c-8d81-ca6a5bc5a715",
   "metadata": {},
   "outputs": [],
   "source": [
    "def createRangeFromMidpoint(midpoint,range,mandatoryMinimum=1):\n",
    "    possibleMin = int(midpoint-(range/2))\n",
    "    possibleMin = max([mandatoryMinimum,possibleMin])\n",
    "    possibleMax = int(midpoint+(range/2))\n",
    "    possibleRange = np.arange(possibleMin,possibleMax)\n",
    "    return possibleRange"
   ]
  },
  {
   "cell_type": "code",
   "execution_count": 7,
   "id": "11e9ce9a-666a-449d-a8d6-c598dcf798ee",
   "metadata": {},
   "outputs": [],
   "source": [
    "def main():\n",
    "    train = loadData(\"training\")\n",
    "    dev,test = loadData(\"testing\",.5)\n",
    "\n",
    "    choose = np.random.choice\n",
    "\n",
    "    possibleConvFilters = createRangeFromMidpoint(64,128)\n",
    "\n",
    "    possibleConvAndPoolLayers = createRangeFromMidpoint(3,6)\n",
    "\n",
    "    possibleNumberOfFCLayers = createRangeFromMidpoint(25,50)\n",
    "    possibleNumberOfNeuronsPerFCLayer = createRangeFromMidpoint(25,50)\n",
    "\n",
    "    possibleNumberOfEpochs = createRangeFromMidpoint(50,100)\n",
    "\n",
    "    n_convFilters = []\n",
    "    n_convAndPoolLayers = []\n",
    "    n_FCLayers = []\n",
    "    n_NeuronsPerFCLayers = []\n",
    "    dropoutRates = []\n",
    "    trainScores = []\n",
    "    devScores = []\n",
    "    \n",
    "    trial = 0\n",
    "    while trial < 1:\n",
    "        convFilters = 2 #choose(possibleConvFilters)\n",
    "\n",
    "        convAndPoolLayers = 2 #choose(possibleConvAndPoolLayers)\n",
    "        convAndPoolLayers = 2 #min([convAndPoolLayers,6])\n",
    "\n",
    "        numberOfFCLayers = 2 #choose(possibleNumberOfFCLayers)\n",
    "        numberOfNeuronsPerFCLayer = 2 #choose(possibleNumberOfNeuronsPerFCLayer)\n",
    "\n",
    "        numberOfEpochs = 2 #choose(possibleNumberOfEpochs)\n",
    "        \n",
    "        dropoutRate = np.random.rand()\n",
    "\n",
    "        model = createModel(convFilters, convAndPoolLayers,numberOfFCLayers, numberOfNeuronsPerFCLayer, numberOfEpochs, dropoutRate)\n",
    "    \n",
    "        model.fit(train,epochs=numberOfEpochs,verbose=0)\n",
    "\n",
    "        model_path = f'../Models/FlipDetectionModelTrials/fd_model_{trial}.h5'\n",
    "        model.save(model_path)\n",
    "        model_size = os.path.getsize(model_path) / (1024 * 1024)\n",
    "        if model_size < 40:\n",
    "            print()\n",
    "            print('trainScore')\n",
    "            trainScore = model.evaluate(train)[1]\n",
    "            print('devScore')\n",
    "            devScore = model.evaluate(dev)[1]\n",
    "\n",
    "            n_convFilters.append(convFilters)\n",
    "            n_convAndPoolLayers.append(convAndPoolLayers)\n",
    "            n_FCLayers.append(numberOfFCLayers)\n",
    "            n_NeuronsPerFCLayers.append(numberOfNeuronsPerFCLayer)\n",
    "            dropoutRates.append(dropoutRate)\n",
    "            trainScores.append(trainScore)\n",
    "            devScores.append(devScore)\n",
    "            print('concluding trial ',trial)\n",
    "            trial += 1\n",
    "        else:\n",
    "            print(f'redoing trial {trial}. Model was {model_size}MB.')\n",
    "            failedTrial = createModelParametersDF([convFilters],[convAndPoolLayers],\n",
    "                                               [numberOfFCLayers],[numberOfNeuronsPerFCLayer],[dropoutRate],[np.nan],[np.nan])\n",
    "            display(failedTrial)\n",
    "            \n",
    "    modelParametersDF = createModelParametersDF(n_convFilters,n_convAndPoolLayers,\n",
    "                                                n_FCLayers,n_NeuronsPerFCLayers,dropoutRates,trainScores,devScores)\n",
    "    display(modelParametersDF.sort_values(by='trainScore', ascending=False))\n",
    "        \n",
    "    \n",
    "    "
   ]
  },
  {
   "cell_type": "code",
   "execution_count": 8,
   "id": "61bbb393-2847-4f80-957b-7c78fb89a06a",
   "metadata": {},
   "outputs": [
    {
     "name": "stdout",
     "output_type": "stream",
     "text": [
      "In non split\n",
      "Found 2392 files belonging to 2 classes.\n",
      "In split\n",
      "Found 597 files belonging to 2 classes.\n",
      "Using 299 files for training.\n",
      "Using 298 files for validation.\n"
     ]
    },
    {
     "name": "stderr",
     "output_type": "stream",
     "text": [
      "2024-06-14 01:27:38.664319: I tensorflow/core/common_runtime/executor.cc:1197] [/device:CPU:0] (DEBUG INFO) Executor start aborting (this does not indicate an error and you can ignore this message): INVALID_ARGUMENT: You must feed a value for placeholder tensor 'Placeholder/_4' with dtype int32 and shape [2392]\n",
      "\t [[{{node Placeholder/_4}}]]\n",
      "2024-06-14 01:27:38.664479: I tensorflow/core/common_runtime/executor.cc:1197] [/device:CPU:0] (DEBUG INFO) Executor start aborting (this does not indicate an error and you can ignore this message): INVALID_ARGUMENT: You must feed a value for placeholder tensor 'Placeholder/_4' with dtype int32 and shape [2392]\n",
      "\t [[{{node Placeholder/_4}}]]\n",
      "2024-06-14 01:27:38.878451: W tensorflow/tsl/platform/profile_utils/cpu_utils.cc:128] Failed to get CPU frequency: 0 Hz\n"
     ]
    },
    {
     "name": "stdout",
     "output_type": "stream",
     "text": [
      "\n",
      "trainScore\n",
      "75/75 [==============================] - 6s 71ms/step - loss: 0.6930 - f1_score: 0.6502\n",
      "devScore\n"
     ]
    },
    {
     "name": "stderr",
     "output_type": "stream",
     "text": [
      "2024-06-14 01:28:01.752736: I tensorflow/core/common_runtime/executor.cc:1197] [/device:CPU:0] (DEBUG INFO) Executor start aborting (this does not indicate an error and you can ignore this message): INVALID_ARGUMENT: You must feed a value for placeholder tensor 'Placeholder/_4' with dtype int32 and shape [299]\n",
      "\t [[{{node Placeholder/_4}}]]\n",
      "2024-06-14 01:28:01.752894: I tensorflow/core/common_runtime/executor.cc:1197] [/device:CPU:0] (DEBUG INFO) Executor start aborting (this does not indicate an error and you can ignore this message): INVALID_ARGUMENT: You must feed a value for placeholder tensor 'Placeholder/_4' with dtype int32 and shape [299]\n",
      "\t [[{{node Placeholder/_4}}]]\n"
     ]
    },
    {
     "name": "stdout",
     "output_type": "stream",
     "text": [
      "10/10 [==============================] - 1s 29ms/step - loss: 0.6929 - f1_score: 0.6277\n",
      "concluding trial  0\n"
     ]
    },
    {
     "data": {
      "text/html": [
       "<div>\n",
       "<style scoped>\n",
       "    .dataframe tbody tr th:only-of-type {\n",
       "        vertical-align: middle;\n",
       "    }\n",
       "\n",
       "    .dataframe tbody tr th {\n",
       "        vertical-align: top;\n",
       "    }\n",
       "\n",
       "    .dataframe thead th {\n",
       "        text-align: right;\n",
       "    }\n",
       "</style>\n",
       "<table border=\"1\" class=\"dataframe\">\n",
       "  <thead>\n",
       "    <tr style=\"text-align: right;\">\n",
       "      <th></th>\n",
       "      <th>n_convFilters</th>\n",
       "      <th>n_convAndPoolLayers</th>\n",
       "      <th>n_FCLayers</th>\n",
       "      <th>n_NeuronsPerFCLayers</th>\n",
       "      <th>dropoutRate</th>\n",
       "      <th>trainScore</th>\n",
       "      <th>devScore</th>\n",
       "    </tr>\n",
       "  </thead>\n",
       "  <tbody>\n",
       "    <tr>\n",
       "      <th>0</th>\n",
       "      <td>2</td>\n",
       "      <td>2</td>\n",
       "      <td>2</td>\n",
       "      <td>2</td>\n",
       "      <td>0.054242</td>\n",
       "      <td>0.65016</td>\n",
       "      <td>0.627677</td>\n",
       "    </tr>\n",
       "  </tbody>\n",
       "</table>\n",
       "</div>"
      ],
      "text/plain": [
       "   n_convFilters  n_convAndPoolLayers  n_FCLayers  n_NeuronsPerFCLayers  \\\n",
       "0              2                    2           2                     2   \n",
       "\n",
       "   dropoutRate  trainScore  devScore  \n",
       "0     0.054242     0.65016  0.627677  "
      ]
     },
     "metadata": {},
     "output_type": "display_data"
    }
   ],
   "source": [
    "main()"
   ]
  },
  {
   "cell_type": "code",
   "execution_count": null,
   "id": "3ba45199-ca72-4323-a7e3-33e9ce7bba6a",
   "metadata": {},
   "outputs": [],
   "source": []
  }
 ],
 "metadata": {
  "kernelspec": {
   "display_name": "Python 3 (ipykernel)",
   "language": "python",
   "name": "python3"
  },
  "language_info": {
   "codemirror_mode": {
    "name": "ipython",
    "version": 3
   },
   "file_extension": ".py",
   "mimetype": "text/x-python",
   "name": "python",
   "nbconvert_exporter": "python",
   "pygments_lexer": "ipython3",
   "version": "3.11.7"
  }
 },
 "nbformat": 4,
 "nbformat_minor": 5
}
